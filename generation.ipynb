{
 "cells": [
  {
   "cell_type": "code",
   "execution_count": null,
   "id": "5e4bb73c-4b9c-4ab3-9d2d-91a17fac4162",
   "metadata": {},
   "outputs": [],
   "source": [
    "import time\n",
    "from tqdm import tqdm\n",
    "import meep as mp\n",
    "import math, cmath\n",
    "import numpy as np \n",
    "import matplotlib.pyplot as plt\n",
    "from pathlib import Path\n",
    "from PIL import Image\n",
    "import shutil, os\n",
    "from matplotlib import colors"
   ]
  },
  {
   "cell_type": "markdown",
   "id": "339228b8-db2a-46dc-9af9-34d33fbb23f4",
   "metadata": {},
   "source": [
    "### Simple Source Generator"
   ]
  },
  {
   "cell_type": "code",
   "execution_count": null,
   "id": "10c3ab72-46cf-4236-857c-6e38dc4ad3e3",
   "metadata": {},
   "outputs": [],
   "source": [
    "def phasor_to_png(phasor_arr, im_base):\n",
    "    \"\"\" Converts steady-state phasors to png of time-average magnitudes \"\"\"\n",
    "    arr2 = im_base.to_rgba(np.absolute(phasor_arr))\n",
    "    arr3 = (arr2 * 255).astype(np.int8) # convert to int8 (lossy conversion, rounded into buckets of 255)\n",
    "    return arr3"
   ]
  },
  {
   "cell_type": "code",
   "execution_count": null,
   "id": "1fef12e8-24fa-413e-aa07-05d1cd30eef1",
   "metadata": {},
   "outputs": [],
   "source": [
    "train_path = Path('./data')\n",
    "train_path.mkdir(exist_ok=True)\n",
    "(train_path/'x/').mkdir(exist_ok=True)\n",
    "(train_path/'labels/').mkdir(exist_ok=True)\n",
    "train_images = 2000\n",
    "\n",
    "resolution = 10  # pixels/um\n",
    "\n",
    "sxy = 10\n",
    "dpml = 2\n",
    "cell = mp.Vector3(sxy+2*dpml,sxy+2*dpml,0)\n",
    "pml_layers = [mp.PML(dpml)]\n",
    "\n",
    "freq = 0.66713 # 200 GHz\n",
    "geometry = [mp.Block(mp.Vector3(x=mp.inf, y=mp.inf, z=mp.inf),\n",
    "                     center=mp.Vector3(0, 0, 0),\n",
    "                     material=mp.Medium(epsilon=1))]\n",
    "src_cmpt = mp.Ez\n",
    "\n",
    "phase_choices = np.array([1, 1j, -1, -1j])\n",
    "phase_choices_r = np.array([0, 90, 180, 270])\n",
    "\n",
    "def uniform_random_sources(n=None):\n",
    "    if n is None: n = np.random.randint(2, 10)\n",
    "    \n",
    "    points = (sxy * np.random.random(size=(n, 2)) - (sxy/2.0)) * 0.95\n",
    "    amplitudes = 0.1 + np.random.normal(size=(n), loc=0.9, scale=0.5)\n",
    "    phase_indices = np.random.choice(4, size=(n))\n",
    "    \n",
    "    cmpl_phase = phase_choices[phase_indices]\n",
    "    real_phase = phase_choices_r[phase_indices]\n",
    "    ampl_phase = cmpl_phase * amplitudes\n",
    "    \n",
    "    cent_vec = [mp.Vector3(x=s[0], y=s[1], z=0) for s in points]\n",
    "    \n",
    "    sources = [mp.Source(src=mp.ContinuousSource(freq),\n",
    "                         center=c, component=src_cmpt,\n",
    "                         amplitude=amp) \n",
    "               for amp, c in zip(ampl_phase, cent_vec)]\n",
    "    \n",
    "    return sources, points, amplitudes, real_phase\n",
    "\n",
    "max_meep_amplitude = 1.0\n",
    "conversion_norm = colors.Normalize(vmin=0, vmax=max_meep_amplitude*376.7, clip=True)\n",
    "norm = colors.Normalize(vmin=0, vmax=max_meep_amplitude, clip=True)"
   ]
  },
  {
   "cell_type": "code",
   "execution_count": null,
   "id": "31b40759-e146-465e-bcee-a897f2502f42",
   "metadata": {},
   "outputs": [],
   "source": [
    "elapsed = np.zeros(50)\n",
    "\n",
    "for i in tqdm(range(elapsed.size), ncols=100): \n",
    "    sources, points, amplitudes, phases = uniform_random_sources()\n",
    "\n",
    "    sim = mp.Simulation(cell_size=cell,\n",
    "                        resolution=resolution,\n",
    "                        geometry=geometry,\n",
    "                        sources=sources,\n",
    "                        boundary_layers=pml_layers,\n",
    "                        force_complex_fields=True)\n",
    "    sim.init_sim()\n",
    "    \n",
    "    st = time.time()\n",
    "    sim.solve_cw()\n",
    "    ed = time.time()\n",
    "    \n",
    "    elapsed[i] = ed - st\n"
   ]
  },
  {
   "cell_type": "code",
   "execution_count": null,
   "id": "22555c4d-b09e-4d4d-ac88-aa6ac36f5571",
   "metadata": {},
   "outputs": [
    {
     "data": {
      "text/plain": [
       "(0.9346670722961425, 0.06467058758582732)"
      ]
     },
     "execution_count": 14,
     "metadata": {},
     "output_type": "execute_result"
    }
   ],
   "source": [
    "np.mean(elapsed), np.std(elapsed)"
   ]
  },
  {
   "cell_type": "code",
   "execution_count": null,
   "id": "b8395091-6def-462d-9408-452533e72f0b",
   "metadata": {},
   "outputs": [],
   "source": [
    "def get_x_img(phasor_arr, points, amps, phases):\n",
    "    x = np.zeros_like(phasor_arr, dtype=float)\n",
    "    f = np.zeros_like(phasor_arr, dtype=float)\n",
    "    \n",
    "    xs = []\n",
    "    ys = []\n",
    "    for p in points:\n",
    "        _fullwidth = 2 * dpml + sxy\n",
    "        xs.append((x.shape[1]-1)*((p[1]+_fullwidth/2.0)/_fullwidth))\n",
    "        ys.append((x.shape[0]-1)*((p[0]+_fullwidth/2.0)/_fullwidth))\n",
    "    xs = np.round(xs).astype(int)\n",
    "    ys = np.round(ys).astype(int)\n",
    "\n",
    "    for xp, yp, a, ph in zip(xs, ys, amps, phases):\n",
    "        x[yp, xp] = a\n",
    "        f[yp, xp] = ph\n",
    "        \n",
    "    return x, f"
   ]
  },
  {
   "cell_type": "code",
   "execution_count": null,
   "id": "f9f52ae4-69d3-42c3-8491-2739998b4508",
   "metadata": {},
   "outputs": [
    {
     "name": "stdout",
     "output_type": "stream",
     "text": [
      "-----------\n",
      "Initializing structure...\n",
      "time for choose_chunkdivision = 0.000158261 s\n",
      "Working in 2D dimensions.\n",
      "Computational cell is 14 x 14 x 0 with resolution 10\n",
      "     block, center = (0,0,0)\n",
      "          size (1e+20,1e+20,1e+20)\n",
      "          axes (1,0,0), (0,1,0), (0,0,1)\n",
      "          dielectric constant epsilon diagonal = (1,1,1)\n",
      "time for set_epsilon = 0.0425283 s\n",
      "-----------\n",
      "Meep: using complex fields.\n",
      "final residual = 9.06698e-09\n",
      "Finished solve_cw after 262 CG iters (~ 1048 timesteps).\n",
      "-----------\n",
      "Initializing structure...\n",
      "time for choose_chunkdivision = 0.000167062 s\n",
      "Working in 2D dimensions.\n",
      "Computational cell is 14 x 14 x 0 with resolution 10\n",
      "     block, center = (0,0,0)\n",
      "          size (1e+20,1e+20,1e+20)\n",
      "          axes (1,0,0), (0,1,0), (0,0,1)\n",
      "          dielectric constant epsilon diagonal = (1,1,1)\n",
      "time for set_epsilon = 0.0411171 s\n",
      "-----------\n",
      "Meep: using complex fields.\n",
      "final residual = 9.72743e-09\n",
      "Finished solve_cw after 244 CG iters (~ 976 timesteps).\n",
      "-----------\n",
      "Initializing structure...\n",
      "time for choose_chunkdivision = 0.000127555 s\n",
      "Working in 2D dimensions.\n",
      "Computational cell is 14 x 14 x 0 with resolution 10\n",
      "     block, center = (0,0,0)\n",
      "          size (1e+20,1e+20,1e+20)\n",
      "          axes (1,0,0), (0,1,0), (0,0,1)\n",
      "          dielectric constant epsilon diagonal = (1,1,1)\n",
      "time for set_epsilon = 0.0413769 s\n"
     ]
    }
   ],
   "source": [
    "train_path = Path('./data_v2')\n",
    "train_path.mkdir(exist_ok=True)\n",
    "(train_path/'x/').mkdir(exist_ok=True)\n",
    "(train_path/'labels/').mkdir(exist_ok=True)\n",
    "train_images = 2000\n",
    "show = None\n",
    "\n",
    "for i in range(train_images):\n",
    "    sources, points, amplitudes, phases = uniform_random_sources()\n",
    "\n",
    "    sim = mp.Simulation(cell_size=cell,\n",
    "                        resolution=resolution,\n",
    "                        geometry=geometry,\n",
    "                        sources=sources,\n",
    "                        boundary_layers=pml_layers,\n",
    "                        force_complex_fields=True)\n",
    "    \n",
    "    sim.init_sim() # takes 15s\n",
    "    sim.solve_cw()\n",
    "\n",
    "    arr = sim.get_array(component=mp.Ez)\n",
    "\n",
    "    x_img, phase_img = get_x_img(arr, points, amplitudes, phases)\n",
    "    \n",
    "    if show == None: \n",
    "        fig, ax = plt.subplots(2, 1)\n",
    "        ax[0].imshow(x_img, norm=norm)\n",
    "        ax[1].imshow(np.abs(arr), norm=norm)\n",
    "        \n",
    "    np.save(train_path/'x'/'train_{:04d}'.format(i), np.stack([x_img, phase_img], axis=0))\n",
    "    np.save(train_path/'labels'/'train_{:04d}_label'.format(i), np.abs(arr))"
   ]
  },
  {
   "cell_type": "code",
   "execution_count": null,
   "id": "3db3b24d-9aa1-4ea4-973e-4b078b4f0e7a",
   "metadata": {},
   "outputs": [
    {
     "name": "stdout",
     "output_type": "stream",
     "text": [
      "\u001b[34mcheckpoints\u001b[m\u001b[m      \u001b[34mdata_v2\u001b[m\u001b[m          \u001b[34mlightning_logs\u001b[m\u001b[m\n",
      "\u001b[34mdata\u001b[m\u001b[m             generation.ipynb training.ipynb\n"
     ]
    }
   ],
   "source": [
    "!ls"
   ]
  },
  {
   "cell_type": "code",
   "execution_count": null,
   "id": "ac809ee6-209f-4bc8-85ea-5b1a518c5b6f",
   "metadata": {},
   "outputs": [],
   "source": []
  }
 ],
 "metadata": {
  "kernelspec": {
   "display_name": "Python [conda env:rebel]",
   "language": "python",
   "name": "conda-env-rebel-py"
  },
  "language_info": {
   "codemirror_mode": {
    "name": "ipython",
    "version": 3
   },
   "file_extension": ".py",
   "mimetype": "text/x-python",
   "name": "python",
   "nbconvert_exporter": "python",
   "pygments_lexer": "ipython3",
   "version": "3.9.15"
  }
 },
 "nbformat": 4,
 "nbformat_minor": 5
}
